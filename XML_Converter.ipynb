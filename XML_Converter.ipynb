{
  "nbformat": 4,
  "nbformat_minor": 0,
  "metadata": {
    "colab": {
      "provenance": []
    },
    "kernelspec": {
      "name": "python3",
      "display_name": "Python 3"
    },
    "language_info": {
      "name": "python"
    }
  },
  "cells": [
    {
      "cell_type": "code",
      "source": [
        "# XML code\n",
        "import pandas as pd\n",
        "from xml.etree.ElementTree import Element, SubElement, tostring\n",
        "from xml.etree import ElementTree\n",
        "from xml.dom import minidom\n",
        "from google.colab import files\n",
        "\n",
        "# Ask the user to upload an Excel file\n",
        "uploaded = files.upload()\n",
        "\n",
        "# Read the uploaded Excel file\n",
        "file_name = list(uploaded.keys())[0]\n",
        "df = pd.read_excel(file_name)\n",
        "\n",
        "# Create the XML structure\n",
        "root = Element(\"Corpus\")\n",
        "\n",
        "# Convert Excel data to XML structure\n",
        "for index, row in df.iterrows():\n",
        "    entry = SubElement(root, \"Entry\", Form=str(row['Form']))\n",
        "    tags = ['Lex_Unit', 'PoS', 'Not_Met', 'Ind_Met', 'Imp_Met', 'Dir_Met', 'M_Flag', 'Genre']\n",
        "    for tag in tags:\n",
        "        value = row[tag] if tag in df.columns else 0\n",
        "        SubElement(entry, tag).text = str(value)\n",
        "\n",
        "# Create the XML file\n",
        "xml_str = ElementTree.tostring(root, encoding='unicode', method='xml')\n",
        "xml_pretty_str = minidom.parseString(xml_str).toprettyxml()\n",
        "\n",
        "# Save the XML file\n",
        "xml_file_name = 'converted_corpus.xml'\n",
        "with open(xml_file_name, 'w') as f:\n",
        "    f.write(xml_pretty_str)\n",
        "\n",
        "# Allow the user to download the XML file\n",
        "files.download(xml_file_name)\n"
      ],
      "metadata": {
        "id": "LcHbqJXUuJKP"
      },
      "execution_count": null,
      "outputs": []
    },
    {
      "cell_type": "code",
      "source": [
        "#compact XML code\n",
        "import pandas as pd\n",
        "from xml.etree.ElementTree import Element, SubElement, tostring\n",
        "from xml.etree import ElementTree\n",
        "from xml.dom import minidom\n",
        "from google.colab import files\n",
        "\n",
        "# Ask the user to upload an Excel file\n",
        "uploaded = files.upload()\n",
        "\n",
        "# Read the uploaded Excel file\n",
        "file_name = list(uploaded.keys())[0]\n",
        "df = pd.read_excel(file_name)\n",
        "\n",
        "# Create the XML structure\n",
        "root = Element(\"Corpus\")\n",
        "\n",
        "# Convert Excel data to XML structure\n",
        "for index, row in df.iterrows():\n",
        "    entry = SubElement(root, \"Entry\", Form=str(row['Form']), Lex_Unit=str(row['Lex_Unit']), PoS=str(row['PoS']), Not_Met=str(row['Not_Met']), Ind_Met=str(row['Ind_Met']), Imp_Met=str(row['Imp_Met']), Dir_Met=str(row['Dir_Met']), M_Flag=str(row['M_Flag']), Genre=str(row['Genre']))\n",
        "\n",
        "# Create the XML file\n",
        "xml_str = ElementTree.tostring(root, encoding='unicode', method='xml')\n",
        "xml_pretty_str = minidom.parseString(xml_str).toprettyxml()\n",
        "\n",
        "# Save the XML file\n",
        "xml_file_name = 'modified_corpus.xml'\n",
        "with open(xml_file_name, 'w') as f:\n",
        "    f.write(xml_pretty_str)\n",
        "\n",
        "# Allow the user to download the XML file\n",
        "files.download(xml_file_name)\n"
      ],
      "metadata": {
        "id": "mhPSzuf9Lrv3"
      },
      "execution_count": null,
      "outputs": []
    }
  ]
}